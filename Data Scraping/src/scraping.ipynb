{
 "cells": [
  {
   "cell_type": "code",
   "execution_count": 46,
   "metadata": {},
   "outputs": [
    {
     "name": "stdout",
     "output_type": "stream",
     "text": [
      "200\n"
     ]
    }
   ],
   "source": [
    "from bs4 import BeautifulSoup\n",
    "import requests\n",
    "\n",
    "host = \"https://refactoring.guru/design-patterns/\"\n",
    "\n",
    "page = requests.get(host + \"catalog/\")\n",
    "print(page.status_code)"
   ]
  },
  {
   "cell_type": "code",
   "execution_count": 47,
   "metadata": {},
   "outputs": [
    {
     "data": {
      "text/plain": [
       "{'Abstract Factory',\n",
       " 'Adapter',\n",
       " 'Bridge',\n",
       " 'Builder',\n",
       " 'Chain of Responsibility',\n",
       " 'Command',\n",
       " 'Composite',\n",
       " 'Decorator',\n",
       " 'Facade',\n",
       " 'Factory Method',\n",
       " 'Flyweight',\n",
       " 'Iterator',\n",
       " 'Mediator',\n",
       " 'Memento',\n",
       " 'Observer',\n",
       " 'Prototype',\n",
       " 'Proxy',\n",
       " 'Singleton',\n",
       " 'State',\n",
       " 'Strategy',\n",
       " 'Template Method',\n",
       " 'Visitor'}"
      ]
     },
     "execution_count": 47,
     "metadata": {},
     "output_type": "execute_result"
    }
   ],
   "source": [
    "soup = BeautifulSoup(page.content, 'html.parser')\n",
    "\n",
    "patterns = soup.select(\".pattern-card\")\n",
    "pattern_names = [p.text for pattern in patterns for p in pattern.select(\".pattern-name\")]\n",
    "pattern_names = set(pattern_names)\n",
    "pattern_names"
   ]
  },
  {
   "cell_type": "code",
   "execution_count": 48,
   "metadata": {},
   "outputs": [],
   "source": [
    "# because every pattern pages link suffixed by modified pattern name with changing whitespace to '-'\n",
    "# we can generate link to every patterns\n",
    "pattern_links = [host + p.lower().replace(\" \", \"-\") for p in pattern_names]\n",
    "\n",
    "# access all the data\n",
    "patterns_pages = [requests.get(link) for link in pattern_links]\n"
   ]
  },
  {
   "cell_type": "code",
   "execution_count": 60,
   "metadata": {},
   "outputs": [],
   "source": [
    "pattern_soups = [BeautifulSoup(p.content, 'html.parser') for p in patterns_pages]\n",
    "\n",
    "# data we want to retrieve\n",
    "# - every part of the page design pattern structure\n",
    "# - for part that has specific steps or list, parse it again\n",
    "# - for part that emphasize specific keyword, safe it\n",
    "# - for relations with other design pattern we can create the connection and the text\n",
    "# - for any part, save the text with BIGTEXT\n",
    "# - for any part, save the pictures\n",
    "# - preprocess each paragraph with https://rapidapi.com/MeaningCloud/api/summarization"
   ]
  },
  {
   "cell_type": "code",
   "execution_count": 109,
   "metadata": {},
   "outputs": [
    {
     "name": "stdout",
     "output_type": "stream",
     "text": [
      "Composite :   Intent,  Problem,  Solution,  Real-World Analogy,  Structure,  Pseudocode,  Applicability,  How to Implement,  Pros and Cons,  Relations with Other Patterns,  Code Examples \n",
      "\n",
      "\n",
      "Chain of Responsibility :   Intent,  Problem,  Solution,  Real-World Analogy,  Structure,  Pseudocode,  Applicability,  How to Implement,  Pros and Cons,  Relations with Other Patterns,  Code Examples \n",
      "\n",
      "\n",
      "Iterator :   Intent,  Problem,  Solution,  Real-World Analogy,  Structure,  Pseudocode,  Applicability,  How to Implement,  Pros and Cons,  Relations with Other Patterns,  Code Examples \n",
      "\n",
      "\n",
      "Abstract Factory :   Intent,  Problem,  Solution,  Structure,  Pseudocode,  Applicability,  How to Implement,  Pros and Cons,  Relations with Other Patterns,  Code Examples,  Extra Content \n",
      "\n",
      "\n",
      "segment differ  {' Extra Content', ' Real-World Analogy'} \n",
      "\n",
      "Template Method :   Intent,  Problem,  Solution,  Real-World Analogy,  Structure,  Pseudocode,  Applicability,  How to Implement,  Pros and Cons,  Relations with Other Patterns,  Code Examples \n",
      "\n",
      "\n",
      "Factory Method :   Intent,  Problem,  Solution,  Structure,  Pseudocode,  Applicability,  How to Implement,  Pros and Cons,  Relations with Other Patterns,  Code Examples,  Extra Content \n",
      "\n",
      "\n",
      "segment differ  {' Extra Content', ' Real-World Analogy'} \n",
      "\n",
      "Facade :   Intent,  Problem,  Solution,  Real-World Analogy,  Structure,  Pseudocode,  Applicability,  How to Implement,  Pros and Cons,  Relations with Other Patterns,  Code Examples \n",
      "\n",
      "\n",
      "Mediator :   Intent,  Problem,  Solution,  Real-World Analogy,  Structure,  Pseudocode,  Applicability,  How to Implement,  Pros and Cons,  Relations with Other Patterns,  Code Examples \n",
      "\n",
      "\n",
      "Command :   Intent,  Problem,  Solution,  Real-World Analogy,  Structure,  Pseudocode,  Applicability,  How to Implement,  Pros and Cons,  Relations with Other Patterns,  Code Examples \n",
      "\n",
      "\n",
      "Prototype :   Intent,  Problem,  Solution,  Real-World Analogy,  Structure,  Pseudocode,  Applicability,  How to Implement,  Pros and Cons,  Relations with Other Patterns,  Code Examples \n",
      "\n",
      "\n",
      "Builder :   Intent,  Problem,  Solution,  Structure,  Pseudocode,  Applicability,  How to Implement,  Pros and Cons,  Relations with Other Patterns,  Code Examples \n",
      "\n",
      "\n",
      "segment differ  {' Real-World Analogy'} \n",
      "\n",
      "State :   Intent,  Problem,  Solution,  Real-World Analogy,  Structure,  Pseudocode,  Applicability,  How to Implement,  Pros and Cons,  Relations with Other Patterns,  Code Examples \n",
      "\n",
      "\n",
      "Visitor :   Intent,  Problem,  Solution,  Real-World Analogy,  Structure,  Pseudocode,  Applicability,  How to Implement,  Pros and Cons,  Relations with Other Patterns,  Code Examples,  Extra Content \n",
      "\n",
      "\n",
      "segment differ  {' Extra Content'} \n",
      "\n",
      "Strategy :   Intent,  Problem,  Solution,  Real-World Analogy,  Structure,  Pseudocode,  Applicability,  How to Implement,  Pros and Cons,  Relations with Other Patterns,  Code Examples \n",
      "\n",
      "\n",
      "Adapter :   Intent,  Problem,  Solution,  Real-World Analogy,  Structure,  Pseudocode,  Applicability,  How to Implement,  Pros and Cons,  Relations with Other Patterns,  Code Examples \n",
      "\n",
      "\n",
      "Bridge :   Intent,  Problem,  Solution,  Structure,  Pseudocode,  Applicability,  How to Implement,  Pros and Cons,  Relations with Other Patterns,  Code Examples \n",
      "\n",
      "\n",
      "segment differ  {' Real-World Analogy'} \n",
      "\n",
      "Decorator :   Intent,  Problem,  Solution,  Real-World Analogy,  Structure,  Pseudocode,  Applicability,  How to Implement,  Pros and Cons,  Relations with Other Patterns,  Code Examples \n",
      "\n",
      "\n",
      "Proxy :   Intent,  Problem,  Solution,  Real-World Analogy,  Structure,  Pseudocode,  Applicability,  How to Implement,  Pros and Cons,  Relations with Other Patterns,  Code Examples \n",
      "\n",
      "\n",
      "Memento :   Intent,  Problem,  Solution,  Structure,  Pseudocode,  Applicability,  How to Implement,  Pros and Cons,  Relations with Other Patterns,  Code Examples \n",
      "\n",
      "\n",
      "segment differ  {' Real-World Analogy'} \n",
      "\n",
      "Flyweight :   Intent,  Problem,  Solution,  Structure,  Pseudocode,  Applicability,  How to Implement,  Pros and Cons,  Relations with Other Patterns,  Code Examples \n",
      "\n",
      "\n",
      "segment differ  {' Real-World Analogy'} \n",
      "\n",
      "Singleton :   Intent,  Problem,  Solution,  Real-World Analogy,  Structure,  Pseudocode,  Applicability,  How to Implement,  Pros and Cons,  Relations with Other Patterns,  Code Examples \n",
      "\n",
      "\n",
      "Observer :   Intent,  Problem,  Solution,  Real-World Analogy,  Structure,  Pseudocode,  Applicability,  How to Implement,  Pros and Cons,  Relations with Other Patterns,  Code Examples \n",
      "\n",
      "\n"
     ]
    }
   ],
   "source": [
    "# see if each segments are the same\n",
    "names_pages = zip(pattern_names, pattern_soups)\n",
    "\n",
    "segment = set()\n",
    "for name, page in names_pages:\n",
    "  segments = [s.text for s in page.select(\"article > .section > h2\")]\n",
    "  print(name, \": \", \", \".join(segments), \"\\n\\n\")\n",
    "  if (segment == set()):\n",
    "    segment = set(segments)\n",
    "  elif segment != set(segments):\n",
    "    print(\"segment differ \", segment.symmetric_difference(set(segments)),  \"\\n\")\n",
    "\n",
    "# Additional segment are extra content and real world analogy in Abstract Factory and Factory Method"
   ]
  }
 ],
 "metadata": {
  "interpreter": {
   "hash": "6aff6889e4dbbca9a425d7cc44d8f14da737fb739d2c94c05bd65e5b4c235f03"
  },
  "kernelspec": {
   "display_name": "Python 3.10.5 64-bit",
   "language": "python",
   "name": "python3"
  },
  "language_info": {
   "codemirror_mode": {
    "name": "ipython",
    "version": 3
   },
   "file_extension": ".py",
   "mimetype": "text/x-python",
   "name": "python",
   "nbconvert_exporter": "python",
   "pygments_lexer": "ipython3",
   "version": "3.10.5"
  },
  "orig_nbformat": 4
 },
 "nbformat": 4,
 "nbformat_minor": 2
}
